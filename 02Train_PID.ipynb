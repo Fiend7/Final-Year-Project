{
 "cells": [
  {
   "cell_type": "markdown",
   "metadata": {},
   "source": [
    "# Training the PID with LSTM\n",
    "# Arduino works 1000 times in 1 second"
   ]
  },
  {
   "cell_type": "code",
   "execution_count": 27,
   "metadata": {
    "ExecuteTime": {
     "end_time": "2020-10-15T20:58:43.434635Z",
     "start_time": "2020-10-15T20:58:37.857198Z"
    }
   },
   "outputs": [],
   "source": [
    "import pandas as pd\n",
    "import numpy as np\n",
    "import matplotlib.pyplot as plt\n",
    "%matplotlib inline\n",
    "import pickle\n",
    "\n",
    "# For scaling, feature selection\n",
    "from sklearn.preprocessing import MinMaxScaler\n",
    "from sklearn.feature_selection import SelectKBest, f_regression\n",
    "from sklearn.model_selection import train_test_split \n",
    "\n",
    "# For LSTM model\n",
    "from keras.models import Sequential\n",
    "from keras.layers import LSTM, Dropout, Dense\n",
    "from keras.callbacks import EarlyStopping\n",
    "from tqdm.keras import TqdmCallback\n",
    "from keras.models import load_model"
   ]
  },
  {
   "cell_type": "code",
   "execution_count": 28,
   "metadata": {
    "ExecuteTime": {
     "end_time": "2020-10-15T20:58:43.604979Z",
     "start_time": "2020-10-15T20:58:43.441522Z"
    },
    "scrolled": true
   },
   "outputs": [
    {
     "data": {
      "text/plain": [
       "[<matplotlib.lines.Line2D at 0x1b3915d5400>,\n",
       " <matplotlib.lines.Line2D at 0x1b3915d5220>]"
      ]
     },
     "execution_count": 28,
     "metadata": {},
     "output_type": "execute_result"
    },
    {
     "data": {
      "image/png": "[encoded data removed]",
      "text/plain": [
       "<Figure size 432x288 with 1 Axes>"
      ]
     },
     "metadata": {
      "needs_background": "light"
     },
     "output_type": "display_data"
    }
   ],
   "source": [
    "# Load training data\n",
    "df = pd.read_csv(r'C:\\Users\\r\\Downloads\\Book3.csv')\n",
    "\n",
    "# Create new feature: setpoint error\n",
    "df['err'] = 45 - df['Temperature']\n",
    "df['Tsp'] = 45\n",
    "# Load possible features\n",
    "X = df[['Temperature','err']]\n",
    "plt.plot(X)\n",
    "# y = np.ravel(df[['Q1']])\n",
    "\n",
    "# # # SelectKBest feature selection\n",
    "# # bestfeatures = SelectKBest(score_func=f_regression, k='all')\n",
    "# # fit = bestfeatures.fit(X,y)\n",
    "# # plt.bar(x=X.columns,height=fit.scores_);"
   ]
  },
  {
   "cell_type": "code",
   "execution_count": 29,
   "metadata": {
    "ExecuteTime": {
     "end_time": "2020-10-15T20:58:43.620970Z",
     "start_time": "2020-10-15T20:58:43.609975Z"
    }
   },
   "outputs": [],
   "source": [
    "# Hyperparameters for model\n",
    "window = 15\n",
    "layers = 2\n",
    "batch_size = 100\n",
    "drop = 0.1\n",
    "units = 100"
   ]
  },
  {
   "cell_type": "code",
   "execution_count": 36,
   "metadata": {
    "ExecuteTime": {
     "end_time": "2020-10-15T20:58:43.668998Z",
     "start_time": "2020-10-15T20:58:43.627982Z"
    }
   },
   "outputs": [],
   "source": [
    "X = df[['Temperature','err']].values\n",
    "y = df[['Tsp']].values\n",
    "\n",
    "# Scale data\n",
    "s_x = MinMaxScaler()\n",
    "Xs = s_x.fit_transform(X)\n",
    "\n",
    "s_y = MinMaxScaler()\n",
    "ys = s_y.fit_transform(y)\n",
    "\n",
    "# Each input uses last 'window' number of Tsp and err to predict the next Q1\n",
    "X_lstm = []\n",
    "y_lstm = []\n",
    "for i in range(window,len(df)):\n",
    "    X_lstm.append(Xs[i-window:i])\n",
    "    y_lstm.append(ys[i])\n",
    "\n",
    "# Reshape data to format accepted by LSTM\n",
    "X_lstm, y_lstm = np.array(X_lstm), np.array(y_lstm)\n",
    "\n",
    "# Split into train and test \n",
    "Xtrain, Xtest, ytrain, ytest = train_test_split(X_lstm,y_lstm,test_size=0.2,shuffle=False)"
   ]
  },
  {
   "cell_type": "code",
   "execution_count": null,
   "metadata": {
    "ExecuteTime": {
     "end_time": "2020-10-15T21:01:16.413099Z",
     "start_time": "2020-10-15T20:58:43.674973Z"
    },
    "scrolled": false
   },
   "outputs": [
    {
     "data": {
      "application/vnd.jupyter.widget-view+json": {
       "model_id": "78fec7b47d6b4c159681cb931675f805",
       "version_major": 2,
       "version_minor": 0
      },
      "text/plain": [
       "HBox(children=(HTML(value=''), FloatProgress(value=1.0, bar_style='info', layout=Layout(width='20px'), max=1.0…"
      ]
     },
     "metadata": {},
     "output_type": "display_data"
    },
    {
     "data": {
      "application/vnd.jupyter.widget-view+json": {
       "model_id": "c3439e14cc2b46e2ac11f261d5dc6dbb",
       "version_major": 2,
       "version_minor": 0
      },
      "text/plain": [
       "HBox(children=(HTML(value=''), FloatProgress(value=1.0, bar_style='info', layout=Layout(width='20px'), max=1.0…"
      ]
     },
     "metadata": {},
     "output_type": "display_data"
    }
   ],
   "source": [
    "# Keras LSTM model\n",
    "model = Sequential()\n",
    "\n",
    "if layers == 1:\n",
    "    model.add(LSTM(units=units, \n",
    "                   input_shape=(Xtrain.shape[1],Xtrain.shape[2])\n",
    "                  )\n",
    "             )\n",
    "    model.add(Dropout(rate=drop))\n",
    "else:\n",
    "    # First layer specifies input_shape and returns sequences\n",
    "    model.add(LSTM(units=units, \n",
    "                   return_sequences=True, \n",
    "                   input_shape=(Xtrain.shape[1],Xtrain.shape[2])\n",
    "                  )\n",
    "             )\n",
    "    model.add(Dropout(rate=drop))\n",
    "    # Middle layers return sequences\n",
    "    for i in range(layers-2):\n",
    "        model.add(LSTM(units=units,return_sequences=True))\n",
    "        model.add(Dropout(rate=drop))\n",
    "    # Last layer doesn't return anything\n",
    "    model.add(LSTM(units=units))\n",
    "    model.add(Dropout(rate=drop))\n",
    "\n",
    "model.add(Dense(1))\n",
    "model.compile(optimizer='adam', loss='mean_squared_error')\n",
    "\n",
    "es = EarlyStopping(monitor='val_loss',\n",
    "                   mode='min',\n",
    "                   verbose=1,\n",
    "                   patience=25\n",
    "                  )\n",
    "\n",
    "result = model.fit(Xtrain, ytrain, \n",
    "                   verbose=0, \n",
    "                   validation_split=0.2,\n",
    "                   callbacks = [es,TqdmCallback(verbose=1)],\n",
    "                   batch_size=batch_size,\n",
    "                   epochs=350)\n",
    "\n",
    "# Show results and save\n",
    "epochs = es.stopped_epoch\n",
    "plt.semilogy(result.history['loss'],label='loss')\n",
    "plt.semilogy(result.history['val_loss'],label='val_loss')\n",
    "plt.legend()\n",
    "\n",
    "model.save('pid_emulate.h5')"
   ]
  },
  {
   "cell_type": "code",
   "execution_count": 32,
   "metadata": {
    "ExecuteTime": {
     "end_time": "2020-10-15T21:01:16.428099Z",
     "start_time": "2020-10-15T21:01:16.415102Z"
    }
   },
   "outputs": [],
   "source": [
    "# Save model parameters\n",
    "model_params = dict()\n",
    "model_params['Xscale'] = s_x\n",
    "model_params['yscale'] = s_y\n",
    "model_params['window'] = window\n",
    "\n",
    "pickle.dump(model_params, open('model_params.pkl', 'wb'))"
   ]
  },
  {
   "cell_type": "code",
   "execution_count": 34,
   "metadata": {
    "ExecuteTime": {
     "end_time": "2020-10-15T21:02:46.282406Z",
     "start_time": "2020-10-15T21:02:45.976714Z"
    }
   },
   "outputs": [
    {
     "data": {
      "image/png": "[encoded data removed]",
      "text/plain": [
       "<Figure size 432x288 with 1 Axes>"
      ]
     },
     "metadata": {
      "needs_background": "light"
     },
     "output_type": "display_data"
    }
   ],
   "source": [
    "# Predict using LSTM\n",
    "yp_s = model.predict(Xtest)\n",
    "#plt.plot(yp_s)\n",
    "\n",
    "# Unscale data\n",
    "Xtest_us = s_x.inverse_transform(Xtest[:,-1,:])\n",
    "ytest_us = s_y.inverse_transform(ytest)\n",
    "yp = s_y.inverse_transform(yp_s)\n",
    "\n",
    "# Derive Tsp (setpoint) and T1 (sensor) from X data\n",
    "sp = Xtest_us[:,0]\n",
    "pv = Xtest_us[:,0] + Xtest_us[:,1]\n",
    "\n",
    "# Plot SP, PID response, and LSTM response\n",
    "plt.plot(sp,'k-',label='$SP$ $(^oC)$')\n",
    "plt.plot(pv,'r-',label='$T_1$ $(^oC)$')\n",
    "plt.plot(ytest_us,'b-',label='$Q_{PID}$ (%)')\n",
    "plt.plot(yp,'g-',label='$Q_{LSTM}$ (%)')\n",
    "plt.legend(fontsize=12,loc='lower right')\n",
    "plt.xlabel('Time',size=14)\n",
    "plt.ylabel('Value',size=14)\n",
    "plt.xticks(size=12)\n",
    "plt.yticks(size=12);"
   ]
  },
  {
   "cell_type": "code",
   "execution_count": 35,
   "metadata": {},
   "outputs": [
    {
     "data": {
      "text/plain": [
       "[<matplotlib.lines.Line2D at 0x1b3fed25880>]"
      ]
     },
     "execution_count": 35,
     "metadata": {},
     "output_type": "execute_result"
    },
    {
     "data": {
      "image/png": "[encoded data removed]",
      "text/plain": [
       "<Figure size 432x288 with 1 Axes>"
      ]
     },
     "metadata": {
      "needs_background": "light"
     },
     "output_type": "display_data"
    }
   ],
   "source": [
    "plt.plot(yp_s)"
   ]
  },
  {
   "cell_type": "code",
   "execution_count": null,
   "metadata": {},
   "outputs": [],
   "source": []
  }
 ],
 "metadata": {
  "hide_input": false,
  "kernelspec": {
   "display_name": "Python 3",
   "language": "python",
   "name": "python3"
  },
  "language_info": {
   "codemirror_mode": {
    "name": "ipython",
    "version": 3
   },
   "file_extension": ".py",
   "mimetype": "text/x-python",
   "name": "python",
   "nbconvert_exporter": "python",
   "pygments_lexer": "ipython3",
   "version": "3.8.5"
  },
  "varInspector": {
   "cols": {
    "lenName": 16,
    "lenType": 16,
    "lenVar": 40
   },
   "kernels_config": {
    "python": {
     "delete_cmd_postfix": "",
     "delete_cmd_prefix": "del ",
     "library": "var_list.py",
     "varRefreshCmd": "print(var_dic_list())"
    },
    "r": {
     "delete_cmd_postfix": ") ",
     "delete_cmd_prefix": "rm(",
     "library": "var_list.r",
     "varRefreshCmd": "cat(var_dic_list()) "
    }
   },
   "types_to_exclude": [
    "module",
    "function",
    "builtin_function_or_method",
    "instance",
    "_Feature"
   ],
   "window_display": false
  }
 },
 "nbformat": 4,
 "nbformat_minor": 2
}
